{
 "cells": [
  {
   "cell_type": "code",
   "execution_count": null,
   "id": "6ebbe125",
   "metadata": {},
   "outputs": [],
   "source": [
    "# Part A: Basic definitions and functions - we start by defining the basic constructs needed\n",
    "# to interact with the Neo4j database. For Part A, we will establish a connection to a test\n",
    "# database. Create some nodes and relationships and run some queries."
   ]
  },
  {
   "cell_type": "code",
   "execution_count": 1,
   "id": "24325839",
   "metadata": {},
   "outputs": [],
   "source": [
    "# There are at least 2 libraries for accessing Neo4j via Python. There is the official\n",
    "# Neo4j driver provided by the company which can be installed using pip (Python package management)\n",
    "# and via Anaconda for use with Jupyter: conda install -c conda-forge sqlalchemy neo4j-python-driver\n",
    "# Currently using \n",
    "# See https://neo4j.com/developer/python/#python-driver\n",
    "from neo4j import GraphDatabase\n",
    "import requests # Fetch and preview data from API\n",
    "import json # parse JSON\n",
    "from itertools import permutations\n",
    "import pandas as pd"
   ]
  },
  {
   "cell_type": "code",
   "execution_count": 2,
   "id": "75b7e2b2",
   "metadata": {},
   "outputs": [],
   "source": [
    "# Establish a connection to the home database\n",
    "conn = GraphDatabase.driver(\"<host>:<port>\", auth=(\"neo4j\", \"neo4j\"))"
   ]
  },
  {
   "cell_type": "code",
   "execution_count": 3,
   "id": "1cab3cd0",
   "metadata": {},
   "outputs": [],
   "source": [
    "# A simple function that creates a database query session and calls the user\n",
    "# function to execute. This is using the transaction API which ensure\n",
    "# atomicity and consistency which are technically not need for these simple examples. \n",
    "def fnUpdateQuery(conn, fnQuery, args={}):\n",
    "    ret = None\n",
    "    with conn.session() as session:\n",
    "        ret = session.write_transaction(fnQuery, args)\n",
    "    \n",
    "    return ret"
   ]
  },
  {
   "cell_type": "code",
   "execution_count": 4,
   "id": "49a833ef",
   "metadata": {},
   "outputs": [],
   "source": [
    "# Transa\n",
    "def fnReadQuery(conn, fnQuery, args={}):\n",
    "    ret = None\n",
    "    with conn.session() as session:\n",
    "        ret = session.read_transaction(fnQuery, args)\n",
    "    \n",
    "    return ret"
   ]
  },
  {
   "cell_type": "code",
   "execution_count": 5,
   "id": "a1b1e4ca",
   "metadata": {},
   "outputs": [],
   "source": [
    "# Reset the database by dropping all the nodes\n",
    "def fnResetDB(transaction, args):\n",
    "    return transaction.run(\"MATCH(n) DETACH DELETE(n)\")"
   ]
  },
  {
   "cell_type": "code",
   "execution_count": 6,
   "id": "066f2a7a",
   "metadata": {},
   "outputs": [],
   "source": [
    "# Return all the nodes\n",
    "def fnGetAllNodes(transaction, args):\n",
    "    result = transaction.run(\"MATCH(n) RETURN (n)\")\n",
    "    return [record[\"n\"] for record in result]"
   ]
  },
  {
   "cell_type": "code",
   "execution_count": 7,
   "id": "2a5e0b79",
   "metadata": {},
   "outputs": [],
   "source": [
    "# A simple function that create a node for each Person and assigns the first and last name.\n",
    "# Also adding an auto-generated unique ID, in fact a UUID, to make it easier to query later.\n",
    "def fnCreatePerson(transaction, args):\n",
    "    result = transaction.run(\n",
    "        \"CREATE (a:Person {id: apoc.create.uuid(), firstName: $inFirstName, lastName: $inLastName}) RETURN a.id\", \n",
    "        inFirstName=args[\"firstName\"], inLastName=args[\"lastName\"])\n",
    "    \n",
    "    return result.single()[0]"
   ]
  },
  {
   "cell_type": "code",
   "execution_count": 8,
   "id": "f7b86928",
   "metadata": {},
   "outputs": [],
   "source": [
    "def fnGetIdFromName(transaction, args):\n",
    "    result = transaction.run(\"MATCH(n:Person) WHERE n.firstName ='\" + args[\"firstName\"] + \n",
    "                                 \"' AND n.lastName ='\" + args[\"lastName\"] + \"' RETURN n.id AS id\")\n",
    "    return result.single()[0]"
   ]
  },
  {
   "cell_type": "code",
   "execution_count": 9,
   "id": "34cbc239",
   "metadata": {},
   "outputs": [],
   "source": [
    "# Creating a generic association function that associates\n",
    "# one person with one or more others\n",
    "def fnAssociate(transaction, args):\n",
    "    personId = args[\"personId\"]\n",
    "    association = args[\"association\"]\n",
    "    otherIds = args[\"otherIds\"]\n",
    "    \n",
    "    # Create a one-way association by default from the person to the other\n",
    "    for anotherId in otherIds:\n",
    "        queryStr=\"\"\"MATCH (a:Person), (b:Person) WHERE a.id = '{0}' AND b.id = '{1}'\n",
    "                    CREATE (a)-[r:{2}]->(b);\"\"\".format(personId, anotherId, association)\n",
    "        \n",
    "        transaction.run(queryStr)\n",
    "    \n",
    "        \n",
    "# This is an example of a one-way associations since the worker is not also the boss of the boss\n",
    "def fnWorksFor(transaction, args):\n",
    "    fnAssociate(transaction, {\"personId\": args[\"personId\"], \"association\": \"works_for\",\n",
    "                                     \"otherIds\": [args[\"bossId\"]]})\n",
    "    \n",
    "    fnAssociate(transaction, {\"personId\": args[\"bossId\"], \"association\": \"employs\",\n",
    "                                     \"otherIds\": [args[\"personId\"]]})\n",
    "    \n",
    "# This is an example of a two way since obviously a friend of A is also A's friend.    \n",
    "def fnFriendsWith(transaction, args):\n",
    "    fnAssociate(transaction, {\"personId\": args[\"personId\"], \"association\": \"friends_with\",\n",
    "                                 \"otherIds\": [args[\"friendId\"]]})\n",
    "    \n",
    "    fnAssociate(transaction, {\"personId\": args[\"friendId\"], \"association\": \"friends_with\",\n",
    "                                 \"otherIds\": [args[\"personId\"]]})\n",
    "\n",
    "def fnSiblings(transaction, args):\n",
    "    pairings = list(permutations(args[\"siblingIds\"], 2))\n",
    "    for pair in pairings:\n",
    "        fnAssociate(transaction, {\"personId\": pair[0], \"association\": \"sibling\",\n",
    "                                     \"otherIds\": [pair[1]]})"
   ]
  },
  {
   "cell_type": "code",
   "execution_count": 10,
   "id": "71d70dd4",
   "metadata": {},
   "outputs": [],
   "source": [
    "def fnDisassociate(transaction, args):\n",
    "    query=\"MATCH (a:Person {id: '\" + args[\"personId\"] + \"'})-[r: \" + args[\"association\"] + \"]->(b:Person {id: '\" + args[\"otherId\"] + \"'}) DELETE r\"\n",
    "    \n",
    "    return transaction.run(query)\n",
    "    \n",
    "def fnUnfriend(transaction, args):\n",
    "    fnDisassociate(transaction, {\"personId\": args[\"personId\"], \"association\": \"friends_with\", \n",
    "                                 \"otherId\": args[\"friendId\"]})\n",
    "    \n",
    "    fnDisassociate(transaction, {\"personId\": args[\"friendId\"], \"association\": \"friends_with\", \n",
    "                                 \"otherId\": args[\"personId\"]})"
   ]
  },
  {
   "cell_type": "code",
   "execution_count": 118,
   "id": "c2b3cea8",
   "metadata": {},
   "outputs": [],
   "source": [
    "# Match all friends of the given person. Notice the arrow means we're\n",
    "# returning those friends only once even though the relationship is bi-directional.\n",
    "def fnGetFriends(transaction, args):\n",
    "    query=\"MATCH (a:Person {id: '\" + args[\"personId\"] + \"'})-[r:friends_with]->(b:Person) RETURN b\"\n",
    "    result = transaction.run(query)\n",
    "    return [record[\"b\"] for record in result]\n",
    "\n",
    "# Rank function is not easily obtainable with an emphemeral / read-only query\n",
    "# So let's do it as a to step function. Get the rank based on current counts.\n",
    "def fnGetRankByNumFriends(transaction, args):\n",
    "    query=\"\"\"MATCH (a:Person)-[r1:friends_with]-(b:Person) \n",
    "                WITH a.firstName as fName, (count(b)/2) as fCount\n",
    "                ORDER BY fCount DESC\n",
    "                WITH COLLECT(DISTINCT {fCount:fCount}) as c\n",
    "                unwind range(0, size(c)-1) as r\n",
    "                return r as rank, c[r][\"fCount\"] as Friend_Count\"\"\"\n",
    "    result = transaction.run(query)\n",
    "    return [rank for rank in result]\n",
    "\n",
    "def fnGetMostFriends(transaction, args):\n",
    "    ranks = fnGetRankByNumFriends(transaction, args)\n",
    "    query=\"\"\"MATCH (a:Person)-[r1:friends_with]-(b:Person) \n",
    "                WITH a.firstName as fName, (count(b)/2) as fCount\n",
    "                ORDER BY fCount DESC\n",
    "                WHERE fCount={0} RETURN fName\"\"\".format(ranks[0][\"Friend_Count\"])\n",
    "    result = transaction.run(query)\n",
    "    return [record[\"fName\"] for record in result]\n",
    "\n",
    "def fnGetLeastFriends(transaction, args):\n",
    "    ranks = fnGetRankByNumFriends(transaction, args)\n",
    "    query=\"\"\"MATCH (a:Person)-[r1:friends_with]-(b:Person) \n",
    "                WITH a.firstName as fName, (count(b)/2) as fCount\n",
    "                ORDER BY fCount DESC\n",
    "                WHERE fCount={0} RETURN fName\"\"\".format(ranks[-1][\"Friend_Count\"])\n",
    "    result = transaction.run(query)\n",
    "    return [record[\"fName\"] for record in result]\n",
    "    \n",
    "def fnGetNoFriends(transaction, args):\n",
    "    query=\"MATCH (a:Person) WHERE NOT (a)-[:friends_with]-() RETURN a.firstName\"\n",
    "    result = transaction.run(query)\n",
    "    return [record[\"a.firstName\"] for record in result]"
   ]
  },
  {
   "cell_type": "code",
   "execution_count": 138,
   "id": "a3855108",
   "metadata": {},
   "outputs": [],
   "source": [
    "# Assume id is unique and assigns it to exactly only\n",
    "def fnSetAge(transaction, args):\n",
    "    query = \"MATCH (a:Person {id:'\" + args[\"personId\"] + \"'})\" + \"SET a.age={0} RETURN a\".format(args[\"age\"])\n",
    "    result = transaction.run(query)\n",
    "    return result.single()[0]\n",
    "\n",
    "# Let's find friends of friends and friends of siblings. Using union to combine all the relationships\n",
    "# but because this can result in duplicates, especially due to two-way relationships let's explicit \n",
    "# filter out using DISTINCT\n",
    "def fnRecommendFriends(transaction, args):\n",
    "    query = \"MATCH(a:Person {id:'\" + args[\"personId\"] + \"\"\"'})-[r1:friends_with]-()-[r2:friends_with]-(ff1:Person)\n",
    "               WHERE NOT EXISTS((a)-[r1:friends_with]-(ff1)) AND NOT EXISTS((a)-[r1:sibling]-(ff1))\n",
    "               RETURN DISTINCT ff1 as ff\n",
    "               UNION ALL MATCH(b:Person {id:'\"\"\" + args[\"personId\"] + \"\"\"'})-[r1:sibling]-()-[r2:friends_with]-(ff2:Person)\n",
    "               WHERE NOT EXISTS((b)-[r1:friends_with]-(ff2)) AND NOT EXISTS((b)-[r1:sibling]-(ff2))\n",
    "               RETURN DISTINCT ff2 as ff\"\"\"\n",
    "    result = transaction.run(query)\n",
    "    return [record[\"ff\"] for record in result]\n",
    "\n",
    "# Similar to the function above but we add some \"qualifications\" (i.e. age)\n",
    "# Will return over 18 and those without an age. IS NULL and NOT EXISTS are equivalent\n",
    "def fnRecommendWorkers(transaction, args):\n",
    "    query = \"MATCH(a:Person {id:'\" + args[\"personId\"] + \"\"\"'})-[r1:employs]-(e1:Person)-[r2:friends_with]-(w1:Person)\n",
    "               WHERE NOT w1.age IS NULL OR w1.age >= 18 \n",
    "               RETURN DISTINCT w1 as w\n",
    "               UNION ALL MATCH(b:Person {id:'\"\"\" + args[\"personId\"] + \"\"\"'})-[r1:employs]-(e2:Person)-[r2:sibling]-(w2:Person)\n",
    "               WHERE NOT w2.age IS NULL OR w2.age >= 18\n",
    "               RETURN DISTINCT w2 as w\"\"\"\n",
    "    result = transaction.run(query)\n",
    "    return [record[\"w\"] for record in result]"
   ]
  },
  {
   "cell_type": "code",
   "execution_count": 52,
   "id": "aa26936c",
   "metadata": {},
   "outputs": [],
   "source": [
    "# Simple utility function that converts a result set into a panda data frame\n",
    "def fnGetFrameFromResultSet(result):\n",
    "    return pd.DataFrame([dict(record) for record in result])"
   ]
  },
  {
   "cell_type": "code",
   "execution_count": 13,
   "id": "4101a084",
   "metadata": {},
   "outputs": [
    {
     "name": "stdout",
     "output_type": "stream",
     "text": [
      "<bound method NDFrame.head of   firstName   lastName                                    id\n",
      "0    Thomas  McPherson  9a710397-85b6-46e6-9156-283f75372d75\n",
      "1   William      Jones  2515c1ee-cd0f-413a-8607-520b23e59d6b\n",
      "2    Marcus      Jones  31614ac1-73a5-4bd1-a8c9-82eed472a2c7\n",
      "3    Jammie      Jones  d273af6a-fdc8-47fb-ac20-af9b0d1710b7\n",
      "4     Harry     Carson  983e8787-188a-4ef4-97cd-32730ea1d748\n",
      "5      John   Thompson  a923c7f6-3b1a-4ad9-b101-fa9983c5a561\n",
      "6      Paul      Adams  d20ddae8-e38a-47f0-b016-783307bc6536\n",
      "7      Karl      Thune  6375aae0-d2c5-403f-8b2e-8aa7bd151cc7>\n"
     ]
    }
   ],
   "source": [
    "# In part A demonstrates basic Neo4j functions using some test data.\n",
    "# Let's start with a clean slate by resetting the DB\n",
    "fnUpdateQuery(conn, fnResetDB)\n",
    "\n",
    "# Insert a couple of people\n",
    "thomasId = fnUpdateQuery(conn, fnCreatePerson, {\"firstName\": \"Thomas\", \"lastName\": \"McPherson\"})\n",
    "williamId = fnUpdateQuery(conn, fnCreatePerson, {\"firstName\": \"William\", \"lastName\": \"Jones\"})\n",
    "marcusId = fnUpdateQuery(conn, fnCreatePerson, {\"firstName\": \"Marcus\", \"lastName\": \"Jones\"})\n",
    "jammieId = fnUpdateQuery(conn, fnCreatePerson, {\"firstName\": \"Jammie\", \"lastName\": \"Jones\"})\n",
    "harryId = fnUpdateQuery(conn, fnCreatePerson, {\"firstName\": \"Harry\", \"lastName\": \"Carson\"})\n",
    "johnId = fnUpdateQuery(conn, fnCreatePerson, {\"firstName\": \"John\", \"lastName\": \"Thompson\"})\n",
    "paulId = fnUpdateQuery(conn, fnCreatePerson, {\"firstName\": \"Paul\", \"lastName\": \"Adams\"})\n",
    "karlId = fnUpdateQuery(conn, fnCreatePerson, {\"firstName\": \"Karl\", \"lastName\": \"Thune\"})\n",
    "\n",
    "# Get people records from nodes\n",
    "people = fnReadQuery(conn, fnGetAllNodes)\n",
    "\n",
    "# Convert to data frame to make things easier\n",
    "dfPeople = fnGetFrameFromResultSet(people)\n",
    "print(dfPeople.head)"
   ]
  },
  {
   "cell_type": "code",
   "execution_count": 14,
   "id": "282c94d7",
   "metadata": {},
   "outputs": [
    {
     "name": "stdout",
     "output_type": "stream",
     "text": [
      "Thomas and William's Ids are 9a710397-85b6-46e6-9156-283f75372d75, 2515c1ee-cd0f-413a-8607-520b23e59d6b\n"
     ]
    }
   ],
   "source": [
    "# Get the IDs from first and last name, in this case assumed to uniquely identify.\n",
    "# Note we returned the IDs above on record creation.\n",
    "thomasId = fnReadQuery(conn, fnGetIdFromName, {\"firstName\": \"Thomas\", \"lastName\": \"McPherson\"})\n",
    "williamId = fnReadQuery(conn, fnGetIdFromName, {\"firstName\": \"William\", \"lastName\": \"Jones\"})\n",
    "\n",
    "# Let's fetch the IDs by querying \n",
    "print(\"Thomas and William's Ids are %s, %s\" % (thomasId, williamId))\n",
    "\n",
    "# Now let's create some relationships. Since we created the IDs we can use those.\n",
    "# Let's build some friendships\n",
    "fnUpdateQuery(conn, fnFriendsWith, {\"personId\": thomasId, \"friendId\": williamId})\n",
    "fnUpdateQuery(conn, fnFriendsWith, {\"personId\": thomasId, \"friendId\": jammieId})\n",
    "fnUpdateQuery(conn, fnFriendsWith, {\"personId\": harryId, \"friendId\": thomasId})\n",
    "fnUpdateQuery(conn, fnFriendsWith, {\"personId\": paulId, \"friendId\": harryId})\n",
    "fnUpdateQuery(conn, fnFriendsWith, {\"personId\": karlId, \"friendId\": paulId})\n",
    "fnUpdateQuery(conn, fnFriendsWith, {\"personId\": karlId, \"friendId\": harryId})\n",
    "\n",
    "# And work relationships\n",
    "fnUpdateQuery(conn, fnWorksFor, {\"personId\": jammieId, \"bossId\": johnId})\n",
    "\n",
    "# And family\n",
    "fnUpdateQuery(conn, fnSiblings, {\"siblingIds\": [williamId, marcusId, jammieId]})"
   ]
  },
  {
   "cell_type": "code",
   "execution_count": 89,
   "id": "6cd2e322",
   "metadata": {},
   "outputs": [
    {
     "name": "stdout",
     "output_type": "stream",
     "text": [
      "Harry's friends are  Karl,Paul,Thomas\n",
      "\n",
      "The most friends:  ['Thomas', 'Harry']\n",
      "The least friends:  ['William', 'Jammie']\n"
     ]
    }
   ],
   "source": [
    "# And now let's do so basic queries that take advantage of graph database.\n",
    "friends = fnReadQuery(conn, fnGetFriends, {\"personId\": harryId})\n",
    "dfFriends = fnGetFrameFromResultSet(friends)\n",
    "print(\"Harry's friends are \", \",\".join(dfFriends[\"firstName\"]))\n",
    "print()\n",
    "\n",
    "# Who has the most friends?\n",
    "theMost = fnReadQuery(conn, fnGetMostFriends)\n",
    "print(\"The most friends: \", theMost)\n",
    "\n",
    "theLeast = fnReadQuery(conn, fnGetLeastFriends)\n",
    "print(\"The least friends: \", theLeast)"
   ]
  },
  {
   "cell_type": "code",
   "execution_count": 134,
   "id": "82321bae",
   "metadata": {},
   "outputs": [
    {
     "name": "stdout",
     "output_type": "stream",
     "text": [
      "And now, the most friends:  ['Thomas']\n",
      "['Marcus', 'John']  have not friends at all.\n",
      "\n",
      "Suggest friends for Marcus:\n",
      "   firstName   lastName                                    id  age\n",
      "0    Thomas  McPherson  9a710397-85b6-46e6-9156-283f75372d75   29\n",
      "\n",
      "Suggest friends for Jammie:\n",
      "   firstName   lastName                                    id  age\n",
      "0     Harry     Carson  983e8787-188a-4ef4-97cd-32730ea1d748   26\n",
      "1    Jammie      Jones  d273af6a-fdc8-47fb-ac20-af9b0d1710b7   24\n",
      "2   William      Jones  2515c1ee-cd0f-413a-8607-520b23e59d6b   25\n",
      "3    Thomas  McPherson  9a710397-85b6-46e6-9156-283f75372d75   29\n"
     ]
    }
   ],
   "source": [
    "# Now let's break the connection - i.e. unfriend \n",
    "fnUpdateQuery(conn, fnUnfriend, {\"personId\": karlId, \"friendId\": harryId})\n",
    "\n",
    "# And now who has the most friends?\n",
    "theMost = fnReadQuery(conn, fnGetMostFriends)\n",
    "print(\"And now, the most friends: \", theMost)\n",
    "\n",
    "# No friends at all?\n",
    "noFriends = fnReadQuery(conn, fnGetNoFriends)\n",
    "print(noFriends, \" have not friends at all.\")\n",
    "print()\n",
    "\n",
    "# Recommend some friends for Marcus and Jammie?\n",
    "newFriends = fnReadQuery(conn, fnRecommendFriends, {\"personId\": marcusId})\n",
    "dfNewFriends = fnGetFrameFromResultSet(newFriends)\n",
    "print(\"Suggest friends for Marcus:\\n\", dfNewFriends)\n",
    "print()\n",
    "\n",
    "newFriends = fnReadQuery(conn, fnRecommendFriends, {\"personId\": jammieId})\n",
    "dfNewFriends = fnGetFrameFromResultSet(newFriends)\n",
    "print(\"Suggest friends for Jammie:\\n\", dfNewFriends)"
   ]
  },
  {
   "cell_type": "code",
   "execution_count": 139,
   "id": "1c7e3aa8",
   "metadata": {},
   "outputs": [
    {
     "name": "stdout",
     "output_type": "stream",
     "text": [
      "  firstName   lastName                                    id  age\n",
      "0     Harry     Carson  983e8787-188a-4ef4-97cd-32730ea1d748   26\n",
      "1    Jammie      Jones  d273af6a-fdc8-47fb-ac20-af9b0d1710b7   24\n",
      "2   William      Jones  2515c1ee-cd0f-413a-8607-520b23e59d6b   25\n",
      "3    Thomas  McPherson  9a710397-85b6-46e6-9156-283f75372d75   29\n"
     ]
    }
   ],
   "source": [
    "# And let's enhance our people database with some additional information\n",
    "# by setting the age. \n",
    "fnUpdateQuery(conn, fnSetAge, {\"personId\": jammieId, \"age\": 24})\n",
    "fnUpdateQuery(conn, fnSetAge, {\"personId\": thomasId, \"age\": 29})\n",
    "fnUpdateQuery(conn, fnSetAge, {\"personId\": williamId, \"age\": 25})\n",
    "fnUpdateQuery(conn, fnSetAge, {\"personId\": harryId, \"age\": 26})\n",
    "fnUpdateQuery(conn, fnSetAge, {\"personId\": marcusId, \"age\": 17})  \n",
    "\n",
    "newWorkers = fnReadQuery(conn, fnRecommendWorkers, {\"personId\": johnId})\n",
    "dfNewWorkers = fnGetFrameFromResultSet(newFriends)\n",
    "print(dfNewWorkers)"
   ]
  },
  {
   "cell_type": "code",
   "execution_count": null,
   "id": "9fc608af",
   "metadata": {},
   "outputs": [],
   "source": [
    "# Cleanup the connection\n",
    "conn.close()"
   ]
  },
  {
   "cell_type": "code",
   "execution_count": null,
   "id": "ffab8454",
   "metadata": {},
   "outputs": [],
   "source": [
    "# Part B: Now let's work with a more complex dataset. Neo4j has provided a sandbox environment which\n",
    "# includes the dataset, cloud db, integrated graphical shell and walkthrough of the data model and queries.\n",
    "# This can be found here: https://medium.com/neo4j/introducing-the-neo4j-stackoverflow-sandbox-69e3729d01f3\n",
    "\n",
    "# For this part of the excercise, will be querying the data via REST, importing it into neo4j and running some\n",
    "# queries."
   ]
  },
  {
   "cell_type": "code",
   "execution_count": 140,
   "id": "0b2bb05b",
   "metadata": {},
   "outputs": [],
   "source": [
    "# Function to fetch \n",
    "def fnGetURL(keyword):\n",
    "    return \"https://api.stackexchange.com/2.2/questions?pagesize=100&order=desc&sort=creation&filter=!5-i6Zw8Y)4W7vpy91PMYsKM-k9yzEsSC1_Uxlf&site=stackoverflow&tagged=\" + keyword\n",
    "    "
   ]
  },
  {
   "cell_type": "code",
   "execution_count": 141,
   "id": "0571efd1",
   "metadata": {},
   "outputs": [],
   "source": [
    "# We're using APOC is a plugin to inject JSON data into Neo4j. APOC is built into many Neo4j environments\n",
    "# but there are some security restrictions especially with loading files. This works as follows:\n",
    "#\n",
    "# This is a fairly complicated query that is actually just a series of chained subqueries that extract tags\n",
    "# and attribution for each question.\n",
    "def fnInsertNeo4jQuestions(transaction, args):\n",
    "    url = fnGetURL(args[\"keyword\"])\n",
    "\n",
    "    # 1. Convert the list of objects in JSON into rows\n",
    "    # 2. Assign the title and link as property to each question node\n",
    "    # 3. For each tag in question, get the tag and merge (assign to) the associated node\n",
    "    # 4. Extract the answer as a separate node\n",
    "    # 5. Extract the author of the question\n",
    "    queryStr = \"CALL apoc.load.json('\" + url + \"\"\"') YIELD value \n",
    "            UNWIND value.items AS q\n",
    "            \n",
    "            MERGE (question:Question {id:q.question_id}) ON CREATE\n",
    "              SET question.title = q.title, question.share_link = q.share_link,\n",
    "            question.favorite_count = q.favorite_count\n",
    "        \n",
    "            FOREACH (tagName IN q.tags | MERGE (tag:Tag {name:tagName}) MERGE (question)-[:TAGGED]->(tag))\n",
    "       \n",
    "            FOREACH (a IN q.answers |\n",
    "                MERGE (question)<-[:ANSWERS]-(answer:Answer {id:a.answer_id})\n",
    "                MERGE (answerer:User {id:a.owner.user_id}) ON CREATE SET answerer.display_name = a.owner.display_name\n",
    "                MERGE (answer)<-[:PROVIDED]-(answerer)\n",
    "            )\n",
    "        \n",
    "            WITH * WHERE NOT q.owner.user_id IS NULL\n",
    "                MERGE (owner:User {id:q.owner.user_id}) ON CREATE SET owner.display_name = q.owner.display_name\n",
    "                SET question.title = q.title, question.share_link = q.share_link, \n",
    "                    question.favorite_count = q.favorite_count\n",
    "            \"\"\"\n",
    "    result = transaction.run(queryStr)"
   ]
  },
  {
   "cell_type": "code",
   "execution_count": 142,
   "id": "3aaca7de",
   "metadata": {},
   "outputs": [
    {
     "name": "stdout",
     "output_type": "stream",
     "text": [
      "https://api.stackexchange.com/2.2/questions?pagesize=100&order=desc&sort=creation&filter=!5-i6Zw8Y)4W7vpy91PMYsKM-k9yzEsSC1_Uxlf&site=stackoverflow&tagged=Neo4j\n",
      "<Response [200]>\n"
     ]
    }
   ],
   "source": [
    "# Fetch all Neo4j related questions. This is done via the helper function\n",
    "# which formats URL with the search term. In this case, let's get some questions on Neo4j.\n",
    "url = fnGetURL(\"Neo4j\")\n",
    "print(url)\n",
    "\n",
    "# Let's preview the JSON data representing the questions and answers\n",
    "response = requests.get(url)\n",
    "\n",
    "# Confirm 200 if data was successfully fetched\n",
    "print(response)\n",
    "\n",
    "# Print out the 1st example\n",
    "qaData = json.loads(response.content.decode('utf-8'))[\"items\"]\n",
    "#print(json.dumps(qaData[0:1], indent=2))"
   ]
  },
  {
   "cell_type": "code",
   "execution_count": 145,
   "id": "5900d1e5",
   "metadata": {},
   "outputs": [
    {
     "name": "stdout",
     "output_type": "stream",
     "text": [
      "[]\n"
     ]
    }
   ],
   "source": [
    "# Flush the database\n",
    "fnUpdateQuery(conn, fnResetDB)\n",
    "\n",
    "ret = fnUpdateQuery(conn, fnGetAllNodes)\n",
    "print(ret)"
   ]
  },
  {
   "cell_type": "code",
   "execution_count": null,
   "id": "1d11937e",
   "metadata": {
    "scrolled": true
   },
   "outputs": [],
   "source": [
    "# Use APOC to insert JSON\n",
    "fnSendQuery(conn, fnInsertNeo4jQuestions, {\"keyword\": \"Neo4j\"})"
   ]
  },
  {
   "cell_type": "code",
   "execution_count": null,
   "id": "328ebf20",
   "metadata": {},
   "outputs": [],
   "source": []
  }
 ],
 "metadata": {
  "kernelspec": {
   "display_name": "Python 3 (ipykernel)",
   "language": "python",
   "name": "python3"
  },
  "language_info": {
   "codemirror_mode": {
    "name": "ipython",
    "version": 3
   },
   "file_extension": ".py",
   "mimetype": "text/x-python",
   "name": "python",
   "nbconvert_exporter": "python",
   "pygments_lexer": "ipython3",
   "version": "3.9.7"
  }
 },
 "nbformat": 4,
 "nbformat_minor": 5
}
