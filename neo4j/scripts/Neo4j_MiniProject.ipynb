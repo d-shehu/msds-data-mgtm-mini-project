{
 "cells": [
  {
   "cell_type": "code",
   "execution_count": null,
   "id": "bf39c8b2",
   "metadata": {},
   "outputs": [],
   "source": [
    "# Part A: Basic definitions and functions - we start by defining the basic constructs needed\n",
    "# to interact with the Neo4j database. For Part A, we will establish a connection to a test\n",
    "# database. Create some nodes and relationships and run some queries."
   ]
  },
  {
   "cell_type": "code",
   "execution_count": 1,
   "id": "94ae6d2d",
   "metadata": {},
   "outputs": [],
   "source": [
    "# There are at least 2 libraries for accessing Neo4j via Python. There is the official\n",
    "# Neo4j driver provided by the company which can be installed using pip (Python package management)\n",
    "# and via Anaconda for use with Jupyter: conda install -c conda-forge sqlalchemy neo4j-python-driver\n",
    "# Currently using \n",
    "# See https://neo4j.com/developer/python/#python-driver\n",
    "from neo4j import GraphDatabase\n",
    "import requests # Fetch and preview data from API\n",
    "import json # parse JSON\n",
    "from itertools import permutations\n",
    "import pandas as pd\n",
    "from datetime import datetime as dt # Parse dates\n",
    "import os\n",
    "import time\n",
    "import seaborn\n",
    "import ipywidgets"
   ]
  },
  {
   "cell_type": "code",
   "execution_count": 2,
   "id": "815571a5",
   "metadata": {},
   "outputs": [
    {
     "data": {
      "text/plain": [
       "'api-data_03182022_113604.json'"
      ]
     },
     "execution_count": 2,
     "metadata": {},
     "output_type": "execute_result"
    }
   ],
   "source": [
    "#Incorporate in filename\n",
    "def fnGetFilename(prefix, extension):\n",
    "    sTS = dt.now().strftime(\"%m%d%Y_%H%M%S\")\n",
    "    return prefix + \"_\" + sTS + \".\" + extension\n",
    "\n",
    "# Test function\n",
    "fnGetFilename(\"api-data\", \"json\")"
   ]
  },
  {
   "cell_type": "code",
   "execution_count": 3,
   "id": "38f01150",
   "metadata": {},
   "outputs": [
    {
     "data": {
      "text/plain": [
       "'/home/automaton/raw_data/api-data_03182022_113606.json'"
      ]
     },
     "execution_count": 3,
     "metadata": {},
     "output_type": "execute_result"
    }
   ],
   "source": [
    "def fnGetFilepath(filename):\n",
    "    # Path to the database file which on my machine is at /home/<user>/raw_data/.\n",
    "    # Feel free to change.\n",
    "    homeDir=os.getenv(\"HOME\")\n",
    "    filePath = os.path.join(homeDir, \"raw_data\", filename)\n",
    "    return filePath\n",
    "\n",
    "# Test function\n",
    "fnGetFilepath(fnGetFilename(\"api-data\", \"json\"))"
   ]
  },
  {
   "cell_type": "code",
   "execution_count": 4,
   "id": "39426383",
   "metadata": {},
   "outputs": [
    {
     "data": {
      "application/vnd.jupyter.widget-view+json": {
       "model_id": "29aa5f6433c746f3a27ff9866858ad59",
       "version_major": 2,
       "version_minor": 0
      },
      "text/plain": [
       "Text(value='', description='Aura DB Name:', placeholder='', style=DescriptionStyle(description_width='initial'…"
      ]
     },
     "metadata": {},
     "output_type": "display_data"
    },
    {
     "data": {
      "application/vnd.jupyter.widget-view+json": {
       "model_id": "f341077e5e364f409b37e1ea06005ae9",
       "version_major": 2,
       "version_minor": 0
      },
      "text/plain": [
       "Password(description='DB Password:', placeholder='', style=DescriptionStyle(description_width='initial'))"
      ]
     },
     "metadata": {},
     "output_type": "display_data"
    }
   ],
   "source": [
    "# Using a 3rd party library, ipywidgets, which has controls for common UI elements like the password field.\n",
    "dbAuraNameWidget = ipywidgets.Text(value=\"\", placeholder=\"\", description=\"Aura DB Name:\", disabled=False, \n",
    "                               style=dict(description_width='initial'))\n",
    "display(dbAuraNameWidget)\n",
    "dbAuraPasswordWidget = ipywidgets.Password(value=\"\", placeholder=\"\", description=\"DB Password:\", disabled=False,\n",
    "                                    style=dict(description_width='initial'))\n",
    "display(dbAuraPasswordWidget)"
   ]
  },
  {
   "cell_type": "code",
   "execution_count": 6,
   "id": "3f5153ee",
   "metadata": {},
   "outputs": [
    {
     "name": "stdout",
     "output_type": "stream",
     "text": [
      "Connecting to:  303352be.databases.neo4j.io\n"
     ]
    }
   ],
   "source": [
    "# Establish a connection to Aura, Neo4j's fully managed database on the cloud. Keep in mind there are some \n",
    "# limitations on memory usage. So using Aura for the smaller demonstration with test data. Port 7687 is\n",
    "# the default for Cypher.\n",
    "if dbAuraNameWidget != None and dbAuraPasswordWidget != None:\n",
    "    print(\"Connecting to: \", dbAuraNameWidget.value)\n",
    "    conn = GraphDatabase.driver(\"neo4j+s://\" + dbAuraNameWidget.value + \":7687\", \n",
    "                                auth=(\"neo4j\", dbAuraPasswordWidget.value))\n",
    "else:\n",
    "    print(\"Please run cell above and enter the database name and password above\")"
   ]
  },
  {
   "cell_type": "code",
   "execution_count": 7,
   "id": "d675faa5",
   "metadata": {},
   "outputs": [],
   "source": [
    "# A simple function that creates a database query session and calls the user\n",
    "# function to execute. This is using the transaction API which ensure\n",
    "# atomicity and consistency which are technically not need for these simple examples. \n",
    "def fnUpdateQuery(conn, fnQuery, args={}):\n",
    "    ret = None\n",
    "    with conn.session() as session:\n",
    "        ret = session.write_transaction(fnQuery, args)\n",
    "    \n",
    "    return ret"
   ]
  },
  {
   "cell_type": "code",
   "execution_count": 8,
   "id": "f7c72fd9",
   "metadata": {},
   "outputs": [],
   "source": [
    "# Function that wraps read-only queries as transactions \n",
    "def fnReadQuery(conn, fnQuery, args={}):\n",
    "    ret = None\n",
    "    with conn.session() as session:\n",
    "        ret = session.read_transaction(fnQuery, args)\n",
    "    \n",
    "    return ret"
   ]
  },
  {
   "cell_type": "code",
   "execution_count": 9,
   "id": "75bef902",
   "metadata": {},
   "outputs": [],
   "source": [
    "# Reset the database by dropping all the nodes\n",
    "def fnResetDB(transaction, args):\n",
    "    return transaction.run(\"MATCH(n) DETACH DELETE(n)\")"
   ]
  },
  {
   "cell_type": "code",
   "execution_count": 10,
   "id": "9b130e09",
   "metadata": {},
   "outputs": [],
   "source": [
    "# Return all the nodes\n",
    "def fnGetAllNodes(transaction, args):\n",
    "    result = transaction.run(\"MATCH(n) RETURN (n)\")\n",
    "    return [record[\"n\"] for record in result]"
   ]
  },
  {
   "cell_type": "code",
   "execution_count": 11,
   "id": "e3d12deb",
   "metadata": {},
   "outputs": [],
   "source": [
    "# A simple function that create a node for each Person and assigns the first and last name.\n",
    "# Also adding an auto-generated unique ID, in fact a UUID, to make it easier to query later.\n",
    "def fnCreatePerson(transaction, args):\n",
    "    result = transaction.run(\n",
    "        \"CREATE (a:Person {id: apoc.create.uuid(), firstName: $inFirstName, lastName: $inLastName}) RETURN a.id\", \n",
    "        inFirstName=args[\"firstName\"], inLastName=args[\"lastName\"])\n",
    "    \n",
    "    return result.single()[0]"
   ]
  },
  {
   "cell_type": "code",
   "execution_count": 12,
   "id": "2385dfbf",
   "metadata": {},
   "outputs": [],
   "source": [
    "def fnGetIdFromName(transaction, args):\n",
    "    result = transaction.run(\"MATCH(n:Person) WHERE n.firstName ='\" + args[\"firstName\"] + \n",
    "                                 \"' AND n.lastName ='\" + args[\"lastName\"] + \"' RETURN n.id AS id\")\n",
    "    return result.single()[0]"
   ]
  },
  {
   "cell_type": "code",
   "execution_count": 13,
   "id": "4549581c",
   "metadata": {},
   "outputs": [],
   "source": [
    "# Creating a generic association function that associates\n",
    "# one person with one or more others\n",
    "def fnAssociate(transaction, args):\n",
    "    personId = args[\"personId\"]\n",
    "    association = args[\"association\"]\n",
    "    otherIds = args[\"otherIds\"]\n",
    "    \n",
    "    # Create a one-way association by default from the person to the other\n",
    "    for anotherId in otherIds:\n",
    "        queryStr=\"\"\"MATCH (a:Person), (b:Person) WHERE a.id = '{0}' AND b.id = '{1}'\n",
    "                    CREATE (a)-[r:{2}]->(b);\"\"\".format(personId, anotherId, association)\n",
    "        \n",
    "        transaction.run(queryStr)\n",
    "    \n",
    "        \n",
    "# This is an example of a one-way associations since the worker is not also the boss of the boss\n",
    "def fnWorksFor(transaction, args):\n",
    "    fnAssociate(transaction, {\"personId\": args[\"personId\"], \"association\": \"works_for\",\n",
    "                                     \"otherIds\": [args[\"bossId\"]]})\n",
    "    \n",
    "    fnAssociate(transaction, {\"personId\": args[\"bossId\"], \"association\": \"employs\",\n",
    "                                     \"otherIds\": [args[\"personId\"]]})\n",
    "    \n",
    "# This is an example of a two way since obviously a friend of A is also A's friend.    \n",
    "def fnFriendsWith(transaction, args):\n",
    "    fnAssociate(transaction, {\"personId\": args[\"personId\"], \"association\": \"friends_with\",\n",
    "                                 \"otherIds\": [args[\"friendId\"]]})\n",
    "    \n",
    "    fnAssociate(transaction, {\"personId\": args[\"friendId\"], \"association\": \"friends_with\",\n",
    "                                 \"otherIds\": [args[\"personId\"]]})\n",
    "\n",
    "def fnSiblings(transaction, args):\n",
    "    pairings = list(permutations(args[\"siblingIds\"], 2))\n",
    "    for pair in pairings:\n",
    "        fnAssociate(transaction, {\"personId\": pair[0], \"association\": \"sibling\",\n",
    "                                     \"otherIds\": [pair[1]]})"
   ]
  },
  {
   "cell_type": "code",
   "execution_count": 14,
   "id": "d37a3d60",
   "metadata": {},
   "outputs": [],
   "source": [
    "def fnDisassociate(transaction, args):\n",
    "    query=\"MATCH (a:Person {id: '\" + args[\"personId\"] + \"'})-[r: \" + args[\"association\"] + \"]->(b:Person {id: '\" + args[\"otherId\"] + \"'}) DELETE r\"\n",
    "    \n",
    "    return transaction.run(query)\n",
    "    \n",
    "def fnUnfriend(transaction, args):\n",
    "    fnDisassociate(transaction, {\"personId\": args[\"personId\"], \"association\": \"friends_with\", \n",
    "                                 \"otherId\": args[\"friendId\"]})\n",
    "    \n",
    "    fnDisassociate(transaction, {\"personId\": args[\"friendId\"], \"association\": \"friends_with\", \n",
    "                                 \"otherId\": args[\"personId\"]})"
   ]
  },
  {
   "cell_type": "code",
   "execution_count": 15,
   "id": "941089ed",
   "metadata": {},
   "outputs": [],
   "source": [
    "# Match all friends of the given person. Notice the arrow means we're\n",
    "# returning those friends only once even though the relationship is bi-directional.\n",
    "def fnGetFriends(transaction, args):\n",
    "    query=\"MATCH (a:Person {id: '\" + args[\"personId\"] + \"'})-[r:friends_with]->(b:Person) RETURN b\"\n",
    "    result = transaction.run(query)\n",
    "    return [record[\"b\"] for record in result]\n",
    "\n",
    "# Rank function is not easily obtainable with an emphemeral / read-only query\n",
    "# So let's do it as a to step function. Get the rank based on current counts.\n",
    "def fnGetRankByNumFriends(transaction, args):\n",
    "    query=\"\"\"MATCH (a:Person)-[r1:friends_with]-(b:Person) \n",
    "                WITH a.firstName as fName, (count(b)/2) as fCount\n",
    "                ORDER BY fCount DESC\n",
    "                WITH COLLECT(DISTINCT {fCount:fCount}) as c\n",
    "                unwind range(0, size(c)-1) as r\n",
    "                return r as rank, c[r][\"fCount\"] as Friend_Count\"\"\"\n",
    "    result = transaction.run(query)\n",
    "    return [rank for rank in result]\n",
    "\n",
    "def fnGetMostFriends(transaction, args):\n",
    "    ranks = fnGetRankByNumFriends(transaction, args)\n",
    "    query=\"\"\"MATCH (a:Person)-[r1:friends_with]-(b:Person) \n",
    "                WITH a.firstName as fName, (count(b)/2) as fCount\n",
    "                ORDER BY fCount DESC\n",
    "                WHERE fCount={0} RETURN fName\"\"\".format(ranks[0][\"Friend_Count\"])\n",
    "    result = transaction.run(query)\n",
    "    return [record[\"fName\"] for record in result]\n",
    "\n",
    "def fnGetLeastFriends(transaction, args):\n",
    "    ranks = fnGetRankByNumFriends(transaction, args)\n",
    "    query=\"\"\"MATCH (a:Person)-[r1:friends_with]-(b:Person) \n",
    "                WITH a.firstName as fName, (count(b)/2) as fCount\n",
    "                ORDER BY fCount DESC\n",
    "                WHERE fCount={0} RETURN fName\"\"\".format(ranks[-1][\"Friend_Count\"])\n",
    "    result = transaction.run(query)\n",
    "    return [record[\"fName\"] for record in result]\n",
    "    \n",
    "def fnGetNoFriends(transaction, args):\n",
    "    query=\"MATCH (a:Person) WHERE NOT (a)-[:friends_with]-() RETURN a.firstName\"\n",
    "    result = transaction.run(query)\n",
    "    return [record[\"a.firstName\"] for record in result]"
   ]
  },
  {
   "cell_type": "code",
   "execution_count": 16,
   "id": "78a10565",
   "metadata": {},
   "outputs": [],
   "source": [
    "# Assume id is unique and assigns it to exactly only\n",
    "def fnSetAge(transaction, args):\n",
    "    query = \"MATCH (a:Person {id:'\" + args[\"personId\"] + \"'})\" + \"SET a.age={0} RETURN a\".format(args[\"age\"])\n",
    "    result = transaction.run(query)\n",
    "    return result.single()[0]\n",
    "\n",
    "# Let's find friends of friends and friends of siblings. Using union to combine all the relationships\n",
    "# but because this can result in duplicates, especially due to two-way relationships let's explicit \n",
    "# filter out using DISTINCT\n",
    "def fnRecommendFriends(transaction, args):\n",
    "    query = \"MATCH(a:Person {id:'\" + args[\"personId\"] + \"\"\"'})-[r1:friends_with]-()-[r2:friends_with]-(ff1:Person)\n",
    "               WHERE NOT EXISTS((a)-[r1:friends_with]-(ff1)) AND NOT EXISTS((a)-[r1:sibling]-(ff1))\n",
    "               RETURN DISTINCT ff1 as ff\n",
    "               UNION ALL MATCH(b:Person {id:'\"\"\" + args[\"personId\"] + \"\"\"'})-[r1:sibling]-()-[r2:friends_with]-(ff2:Person)\n",
    "               WHERE NOT EXISTS((b)-[r1:friends_with]-(ff2)) AND NOT EXISTS((b)-[r1:sibling]-(ff2))\n",
    "               RETURN DISTINCT ff2 as ff\"\"\"\n",
    "    result = transaction.run(query)\n",
    "    return [record[\"ff\"] for record in result]\n",
    "\n",
    "# Similar to the function above but we add some \"qualifications\" (i.e. age)\n",
    "# Will return over 18 and those without an age. IS NULL and NOT EXISTS are equivalent\n",
    "def fnRecommendWorkers(transaction, args):\n",
    "    query = \"MATCH(a:Person {id:'\" + args[\"personId\"] + \"\"\"'})-[r1:employs]-(e1:Person)-[r2:friends_with]-(w1:Person)\n",
    "               WHERE NOT w1.age IS NULL OR w1.age >= 18 \n",
    "               RETURN DISTINCT w1 as w\n",
    "               UNION ALL MATCH(b:Person {id:'\"\"\" + args[\"personId\"] + \"\"\"'})-[r1:employs]-(e2:Person)-[r2:sibling]-(w2:Person)\n",
    "               WHERE NOT w2.age IS NULL OR w2.age >= 18\n",
    "               RETURN DISTINCT w2 as w\"\"\"\n",
    "    result = transaction.run(query)\n",
    "    return [record[\"w\"] for record in result]"
   ]
  },
  {
   "cell_type": "code",
   "execution_count": 17,
   "id": "dc08c995",
   "metadata": {},
   "outputs": [],
   "source": [
    "# Simple utility function that converts a result set into a panda data frame\n",
    "def fnGetFrameFromResultSet(result):\n",
    "    return pd.DataFrame([dict(record) for record in result])"
   ]
  },
  {
   "cell_type": "code",
   "execution_count": 18,
   "id": "b72a9858",
   "metadata": {},
   "outputs": [
    {
     "name": "stdout",
     "output_type": "stream",
     "text": [
      "<bound method NDFrame.head of   firstName   lastName                                    id\n",
      "0      Karl      Thune  80487da7-c354-4b69-927e-e545376304cd\n",
      "1    Thomas  McPherson  dd9c7822-9b30-4bb6-8a71-4603c4804343\n",
      "2   William      Jones  a547f444-a1df-44a7-863d-48256b34f4ea\n",
      "3    Marcus      Jones  521710b1-ebb2-427f-9330-041fff2ce153\n",
      "4    Jammie      Jones  d52b6356-cdb1-4f94-8b67-d9e56bccea97\n",
      "5     Harry     Carson  eaaf8628-d827-4567-9c3c-7647825884fa\n",
      "6      John   Thompson  229807f9-74e8-4d97-be22-d14ae93c3a43\n",
      "7      Paul      Adams  ba110986-b05a-42a5-8b74-a23e5bec5d1d>\n"
     ]
    }
   ],
   "source": [
    "# In part A demonstrates basic Neo4j functions using some test data.\n",
    "# Let's start with a clean slate by resetting the DB\n",
    "fnUpdateQuery(conn, fnResetDB)\n",
    "\n",
    "# Insert a couple of people\n",
    "thomasId = fnUpdateQuery(conn, fnCreatePerson, {\"firstName\": \"Thomas\", \"lastName\": \"McPherson\"})\n",
    "williamId = fnUpdateQuery(conn, fnCreatePerson, {\"firstName\": \"William\", \"lastName\": \"Jones\"})\n",
    "marcusId = fnUpdateQuery(conn, fnCreatePerson, {\"firstName\": \"Marcus\", \"lastName\": \"Jones\"})\n",
    "jammieId = fnUpdateQuery(conn, fnCreatePerson, {\"firstName\": \"Jammie\", \"lastName\": \"Jones\"})\n",
    "harryId = fnUpdateQuery(conn, fnCreatePerson, {\"firstName\": \"Harry\", \"lastName\": \"Carson\"})\n",
    "johnId = fnUpdateQuery(conn, fnCreatePerson, {\"firstName\": \"John\", \"lastName\": \"Thompson\"})\n",
    "paulId = fnUpdateQuery(conn, fnCreatePerson, {\"firstName\": \"Paul\", \"lastName\": \"Adams\"})\n",
    "karlId = fnUpdateQuery(conn, fnCreatePerson, {\"firstName\": \"Karl\", \"lastName\": \"Thune\"})\n",
    "\n",
    "# Get people records from nodes\n",
    "people = fnReadQuery(conn, fnGetAllNodes)\n",
    "\n",
    "# Convert to data frame to make things easier\n",
    "dfPeople = fnGetFrameFromResultSet(people)\n",
    "print(dfPeople.head)"
   ]
  },
  {
   "cell_type": "code",
   "execution_count": 19,
   "id": "3544f1f6",
   "metadata": {},
   "outputs": [
    {
     "name": "stdout",
     "output_type": "stream",
     "text": [
      "Thomas and William's Ids are dd9c7822-9b30-4bb6-8a71-4603c4804343, a547f444-a1df-44a7-863d-48256b34f4ea\n"
     ]
    }
   ],
   "source": [
    "# Get the IDs from first and last name, in this case assumed to uniquely identify.\n",
    "# Note we returned the IDs above on record creation.\n",
    "thomasId = fnReadQuery(conn, fnGetIdFromName, {\"firstName\": \"Thomas\", \"lastName\": \"McPherson\"})\n",
    "williamId = fnReadQuery(conn, fnGetIdFromName, {\"firstName\": \"William\", \"lastName\": \"Jones\"})\n",
    "\n",
    "# Let's fetch the IDs by querying \n",
    "print(\"Thomas and William's Ids are %s, %s\" % (thomasId, williamId))\n",
    "\n",
    "# Now let's create some relationships. Since we created the IDs we can use those.\n",
    "# Let's build some friendships\n",
    "fnUpdateQuery(conn, fnFriendsWith, {\"personId\": thomasId, \"friendId\": williamId})\n",
    "fnUpdateQuery(conn, fnFriendsWith, {\"personId\": thomasId, \"friendId\": jammieId})\n",
    "fnUpdateQuery(conn, fnFriendsWith, {\"personId\": harryId, \"friendId\": thomasId})\n",
    "fnUpdateQuery(conn, fnFriendsWith, {\"personId\": paulId, \"friendId\": harryId})\n",
    "fnUpdateQuery(conn, fnFriendsWith, {\"personId\": karlId, \"friendId\": paulId})\n",
    "fnUpdateQuery(conn, fnFriendsWith, {\"personId\": karlId, \"friendId\": harryId})\n",
    "\n",
    "# And work relationships\n",
    "fnUpdateQuery(conn, fnWorksFor, {\"personId\": jammieId, \"bossId\": johnId})\n",
    "\n",
    "# And family\n",
    "fnUpdateQuery(conn, fnSiblings, {\"siblingIds\": [williamId, marcusId, jammieId]})"
   ]
  },
  {
   "cell_type": "code",
   "execution_count": 20,
   "id": "6449d74e",
   "metadata": {},
   "outputs": [
    {
     "name": "stdout",
     "output_type": "stream",
     "text": [
      "Harry's friends are  Karl,Paul,Thomas\n",
      "\n",
      "The most friends:  ['Thomas', 'Harry']\n",
      "The least friends:  ['William', 'Jammie']\n"
     ]
    }
   ],
   "source": [
    "# And now let's do so basic queries that take advantage of graph database.\n",
    "friends = fnReadQuery(conn, fnGetFriends, {\"personId\": harryId})\n",
    "dfFriends = fnGetFrameFromResultSet(friends)\n",
    "print(\"Harry's friends are \", \",\".join(dfFriends[\"firstName\"]))\n",
    "print()\n",
    "\n",
    "# Who has the most friends?\n",
    "theMost = fnReadQuery(conn, fnGetMostFriends)\n",
    "print(\"The most friends: \", theMost)\n",
    "\n",
    "theLeast = fnReadQuery(conn, fnGetLeastFriends)\n",
    "print(\"The least friends: \", theLeast)"
   ]
  },
  {
   "cell_type": "code",
   "execution_count": 21,
   "id": "2c742edf",
   "metadata": {},
   "outputs": [
    {
     "name": "stdout",
     "output_type": "stream",
     "text": [
      "And now, the most friends:  ['Thomas']\n",
      "['Marcus', 'John']  have not friends at all.\n",
      "\n",
      "Suggest friends for Marcus:\n",
      "   firstName   lastName                                    id\n",
      "0    Thomas  McPherson  dd9c7822-9b30-4bb6-8a71-4603c4804343\n",
      "\n",
      "Suggest friends for Jammie:\n",
      "   firstName   lastName                                    id\n",
      "0     Harry     Carson  eaaf8628-d827-4567-9c3c-7647825884fa\n",
      "1    Jammie      Jones  d52b6356-cdb1-4f94-8b67-d9e56bccea97\n",
      "2   William      Jones  a547f444-a1df-44a7-863d-48256b34f4ea\n",
      "3    Thomas  McPherson  dd9c7822-9b30-4bb6-8a71-4603c4804343\n"
     ]
    }
   ],
   "source": [
    "# Now let's break the connection - i.e. unfriend \n",
    "fnUpdateQuery(conn, fnUnfriend, {\"personId\": karlId, \"friendId\": harryId})\n",
    "\n",
    "# And now who has the most friends?\n",
    "theMost = fnReadQuery(conn, fnGetMostFriends)\n",
    "print(\"And now, the most friends: \", theMost)\n",
    "\n",
    "# No friends at all?\n",
    "noFriends = fnReadQuery(conn, fnGetNoFriends)\n",
    "print(noFriends, \" have not friends at all.\")\n",
    "print()\n",
    "\n",
    "# Recommend some friends for Marcus and Jammie?\n",
    "newFriends = fnReadQuery(conn, fnRecommendFriends, {\"personId\": marcusId})\n",
    "dfNewFriends = fnGetFrameFromResultSet(newFriends)\n",
    "print(\"Suggest friends for Marcus:\\n\", dfNewFriends)\n",
    "print()\n",
    "\n",
    "newFriends = fnReadQuery(conn, fnRecommendFriends, {\"personId\": jammieId})\n",
    "dfNewFriends = fnGetFrameFromResultSet(newFriends)\n",
    "print(\"Suggest friends for Jammie:\\n\", dfNewFriends)"
   ]
  },
  {
   "cell_type": "code",
   "execution_count": 22,
   "id": "59b36cdc",
   "metadata": {},
   "outputs": [
    {
     "name": "stdout",
     "output_type": "stream",
     "text": [
      "  firstName   lastName                                    id\n",
      "0     Harry     Carson  eaaf8628-d827-4567-9c3c-7647825884fa\n",
      "1    Jammie      Jones  d52b6356-cdb1-4f94-8b67-d9e56bccea97\n",
      "2   William      Jones  a547f444-a1df-44a7-863d-48256b34f4ea\n",
      "3    Thomas  McPherson  dd9c7822-9b30-4bb6-8a71-4603c4804343\n"
     ]
    }
   ],
   "source": [
    "# And let's enhance our people database with some additional information\n",
    "# by setting the age. \n",
    "fnUpdateQuery(conn, fnSetAge, {\"personId\": jammieId, \"age\": 24})\n",
    "fnUpdateQuery(conn, fnSetAge, {\"personId\": thomasId, \"age\": 29})\n",
    "fnUpdateQuery(conn, fnSetAge, {\"personId\": williamId, \"age\": 25})\n",
    "fnUpdateQuery(conn, fnSetAge, {\"personId\": harryId, \"age\": 26})\n",
    "fnUpdateQuery(conn, fnSetAge, {\"personId\": marcusId, \"age\": 17})  \n",
    "\n",
    "newWorkers = fnReadQuery(conn, fnRecommendWorkers, {\"personId\": johnId})\n",
    "dfNewWorkers = fnGetFrameFromResultSet(newFriends)\n",
    "print(dfNewWorkers)"
   ]
  },
  {
   "cell_type": "code",
   "execution_count": 23,
   "id": "2917d664",
   "metadata": {},
   "outputs": [],
   "source": [
    "# Cleanup the connection\n",
    "conn.close()"
   ]
  },
  {
   "cell_type": "code",
   "execution_count": null,
   "id": "bc608a7d",
   "metadata": {},
   "outputs": [],
   "source": [
    "# Part B: Now let's work with a more complex dataset. Neo4j has provided a sandbox environment which\n",
    "# includes the dataset, cloud db, integrated graphical shell and walkthrough of the data model and queries.\n",
    "# This can be found here: https://medium.com/neo4j/introducing-the-neo4j-stackoverflow-sandbox-69e3729d01f3\n",
    "\n",
    "# For this part of the excercise, will be querying the data via REST, importing it into neo4j and basic review."
   ]
  },
  {
   "cell_type": "code",
   "execution_count": 24,
   "id": "a4ed0497",
   "metadata": {},
   "outputs": [],
   "source": [
    "# Stack exchange APIs allows for the creation of custom filters to define which fields to return. The filter can be\n",
    "# seen here: https://api.stackexchange.com/2.2/filters/!5-i6Zw8Y)4W7vpy91PMYsKM-k9yzEsSC1_Uxlf\n",
    "def fnGetAPIFilter():\n",
    "    return \"!5-i6Zw8Y)4W7vpy91PMYsKM-k9yzEsSC1_Uxlf\""
   ]
  },
  {
   "cell_type": "code",
   "execution_count": 25,
   "id": "553ff0be",
   "metadata": {},
   "outputs": [
    {
     "data": {
      "text/plain": [
       "'https://api.stackexchange.com/2.2/questions?pagesize=100&order=desc&sort=creation&filter=!5-i6Zw8Y)4W7vpy91PMYsKM-k9yzEsSC1_Uxlf&site=stackoverflow&tagged=neo4j&page=13'"
      ]
     },
     "execution_count": 25,
     "metadata": {},
     "output_type": "execute_result"
    }
   ],
   "source": [
    "# Function to fetch \n",
    "def fnGetURL(keyword, page):\n",
    "    return \"https://api.stackexchange.com/2.2/questions?pagesize=100&order=desc&sort=creation&filter=\" + fnGetAPIFilter() + \"&site=stackoverflow&tagged=\" + keyword + \"&page=\" + page\n",
    "\n",
    "fnGetURL(\"neo4j\", \"13\")"
   ]
  },
  {
   "cell_type": "code",
   "execution_count": 26,
   "id": "888e5b84",
   "metadata": {},
   "outputs": [],
   "source": [
    "# We're using APOC is a plugin to inject JSON data into Neo4j. APOC is built into many Neo4j environments\n",
    "# but there are some security restrictions especially with loading files. This works as follows:\n",
    "#\n",
    "# This is a fairly complicated query that is actually just a series of chained subqueries that extract tags\n",
    "# and attribution for each question.\n",
    "def fnInsertNeo4jQuestions(transaction, args):\n",
    "    # To avoid issues with API, we store the file with all the records on AWS\n",
    "    url = args[\"url\"] #fnGetURL(args[\"keyword\"], args[\"page\"])\n",
    "\n",
    "    # 1. Convert the list of objects in JSON into questions (top level object)\n",
    "    # 2. Assign the title and link as property to each question node\n",
    "    # 3. For each tag in question, get the tag and merge (assign to) the associated node\n",
    "    # 4. Extract the answer as a separate node\n",
    "    # 5. Extract the author of the question\n",
    "    \n",
    "    # Please note that there is bogus data like inconsistently encoded userID, NULL user IDs, numeric string.\n",
    "    # Compensate for that in a simple way by looking for a NULL relationship.\n",
    "    queryStr = \"CALL apoc.load.json('\" + url + \"\"\"') YIELD value \n",
    "                UNWIND value.items AS q\n",
    "\n",
    "                MERGE (question:Question {uuid:q.question_id})\n",
    "                  ON CREATE SET question.title = q.title,\n",
    "                    question.link = q.share_link,\n",
    "                    question.creation_date = q.creation_date,\n",
    "                    question.accepted_answer_id=q.accepted_answer_id,\n",
    "                    question.view_count=q.view_count,\n",
    "                    question.answer_count=q.answer_count,\n",
    "                    question.body_markdown=q.body_markdown\n",
    "\n",
    "                // who asked the question\n",
    "                MERGE (owner:User {uuid:coalesce(q.owner.user_id,'deleted')})\n",
    "                  ON CREATE SET owner.display_name = q.owner.display_name\n",
    "                MERGE (owner)-[:ASKED]->(question)\n",
    "\n",
    "                // what tags do the questions have\n",
    "                FOREACH (tagName IN q.tags |\n",
    "                  MERGE (tag:Tag {name:tagName})\n",
    "                    ON CREATE SET tag.link = \"https://stackoverflow.com/questions/tagged/\" + tag.name\n",
    "                  MERGE (question)-[:TAGGED]->(tag))\n",
    "\n",
    "                // who answered the questions?\n",
    "                FOREACH (a IN q.answers |\n",
    "                   MERGE (question)<-[:ANSWERED]-(answer:Answer {uuid:a.answer_id})\n",
    "                    ON CREATE SET answer.is_accepted = a.is_accepted,\n",
    "                    answer.link=a.share_link,\n",
    "                    answer.title=a.title,\n",
    "                    answer.body_markdown=a.body_markdown,\n",
    "                    answer.score=a.score,\n",
    "                    answer.favorite_score=a.favorite_score,\n",
    "                    answer.view_count=a.view_count\n",
    "                   MERGE (answerer:User {uuid:coalesce(a.owner.user_id,'deleted')})\n",
    "                    ON CREATE SET answerer.display_name = a.owner.display_name\n",
    "                   MERGE (answer)<-[:PROVIDED]-(answerer)\n",
    "                )\n",
    "\n",
    "                // who commented on the question\n",
    "                FOREACH (c in q.comments |\n",
    "                  MERGE (question)<-[:COMMENTED_ON]-(comment:Comment {uuid:c.comment_id})\n",
    "                    ON CREATE SET comment.link=c.link, comment.score=c.score\n",
    "                  MERGE (commenter:User {uuid:coalesce(c.owner.user_id,'deleted')})\n",
    "                    ON CREATE SET commenter.display_name = c.owner.display_name\n",
    "                  MERGE (comment)<-[:COMMENTED]-(commenter)\n",
    "                );\n",
    "            \"\"\"\n",
    "    result = transaction.run(queryStr)"
   ]
  },
  {
   "cell_type": "code",
   "execution_count": 27,
   "id": "6b34eb67",
   "metadata": {},
   "outputs": [],
   "source": [
    "# Pull all questions and associated answers and comments for the keyword \"neo4j\".\n",
    "keyword = \"neo4j\""
   ]
  },
  {
   "cell_type": "code",
   "execution_count": 28,
   "id": "5bc6b285",
   "metadata": {},
   "outputs": [],
   "source": [
    "def fnFetchStackoverflowQA(saveFile, keyword, iPage):\n",
    "    # Fetch all questions for this keyword. This is done via the helper function\n",
    "    # which formats URL with the search term.\n",
    "    print(\"Fetching and writing page %d\" % iPage)\n",
    "    url = fnGetURL(keyword, str(iPage))\n",
    "    #print(url) \n",
    "    \n",
    "    # Let's preview the JSON data representing the questions and answers\n",
    "    response = requests.get(url)\n",
    "    \n",
    "    # Confirm 200 if data was successfully fetched\n",
    "    print(response)\n",
    "    \n",
    "    # Convert response data to json\n",
    "    qaData = json.loads(response.content.decode('utf-8'))\n",
    "    \n",
    "    # Items are the actual Questions with comments, answers\n",
    "    if \"items\" in qaData:\n",
    "        items = qaData[\"items\"]\n",
    "\n",
    "        # Sneak a peak (testing)\n",
    "        #if iPage == 1:\n",
    "        #    print(json.dumps(qaData[\"items\"][0:1], indent=2))\n",
    "\n",
    "        bFirst = iPage == 1\n",
    "        # Append each object to file so we have a single list of items\n",
    "        with open(pathToRawData, \"a\") as outfile:\n",
    "            for item in items:\n",
    "                if not bFirst:\n",
    "                    outfile.write(\",\")\n",
    "                bFirst = False\n",
    "                json.dump(item, outfile)\n",
    "            \n",
    "        \n",
    "    # API is paginated and returns results in pages of at most 100 records\n",
    "    return \"has_more\" in qaData and qaData[\"has_more\"] == True"
   ]
  },
  {
   "cell_type": "code",
   "execution_count": 29,
   "id": "03721e6b",
   "metadata": {},
   "outputs": [
    {
     "name": "stdout",
     "output_type": "stream",
     "text": [
      "Fetching and writing page 1\n",
      "<Response [200]>\n",
      "Fetching and writing page 2\n",
      "<Response [200]>\n",
      "Fetching and writing page 3\n",
      "<Response [200]>\n",
      "Fetching and writing page 4\n",
      "<Response [200]>\n",
      "Fetching and writing page 5\n",
      "<Response [200]>\n",
      "Fetching and writing page 6\n",
      "<Response [200]>\n",
      "Fetching and writing page 7\n",
      "<Response [200]>\n",
      "Fetching and writing page 8\n",
      "<Response [200]>\n",
      "Fetching and writing page 9\n",
      "<Response [200]>\n",
      "Fetching and writing page 10\n",
      "<Response [200]>\n",
      "Fetching and writing page 11\n",
      "<Response [200]>\n",
      "Fetching and writing page 12\n",
      "<Response [200]>\n",
      "Fetching and writing page 13\n",
      "<Response [200]>\n",
      "Fetching and writing page 14\n",
      "<Response [200]>\n",
      "Fetching and writing page 15\n",
      "<Response [200]>\n",
      "Fetching and writing page 16\n",
      "<Response [200]>\n",
      "Fetching and writing page 17\n",
      "<Response [200]>\n",
      "Fetching and writing page 18\n",
      "<Response [200]>\n",
      "Fetching and writing page 19\n",
      "<Response [200]>\n",
      "Fetching and writing page 20\n",
      "<Response [200]>\n",
      "Fetching and writing page 21\n",
      "<Response [200]>\n",
      "Fetching and writing page 22\n",
      "<Response [200]>\n",
      "Fetching and writing page 23\n",
      "<Response [200]>\n",
      "Fetching and writing page 24\n",
      "<Response [200]>\n",
      "Fetching and writing page 25\n",
      "<Response [200]>\n"
     ]
    }
   ],
   "source": [
    "# This will read the Q&A from the API and write to a file. Currently, it's writing to a \n",
    "# JSON file and that file is getting uploaded to S3 manually for use with APOC.\n",
    "\n",
    "# Save the JSON data to avoid having to reload from API\n",
    "pathToRawData = fnGetFilepath(fnGetFilename(\"stackoverflow-\" + keyword, \"json\"))\n",
    "\n",
    "# Parent object which will contain list of json\n",
    "with open(pathToRawData, \"w\") as outfile:\n",
    "    outfile.write('{\"items\":[')\n",
    "\n",
    "iPage = 1\n",
    "\n",
    "# Pages above 25 require auth token. So let's get as much as possible.\n",
    "# Assume there is at least 1 page of results. List may have 0 records\n",
    "# if the tag was not used.\n",
    "hasMore = True\n",
    "while hasMore and iPage <= 25:\n",
    "    hasMore = fnFetchStackoverflowQA(pathToRawData, keyword, iPage)\n",
    "    iPage = iPage + 1\n",
    "    # Avoid API throttling (30 per second) by slowing down the requests\n",
    "    time.sleep(4)\n",
    "    \n",
    "    url = fnGetURL(keyword, str(iPage))\n",
    "        \n",
    "    response = requests.get(url)\n",
    "\n",
    "# \"Close\" parent object\n",
    "with open(pathToRawData, \"a\") as outfile:\n",
    "    outfile.write(']}')"
   ]
  },
  {
   "cell_type": "code",
   "execution_count": 30,
   "id": "9fa013e9",
   "metadata": {},
   "outputs": [
    {
     "data": {
      "application/vnd.jupyter.widget-view+json": {
       "model_id": "6e2cb04eef8b4ef287018db084e65957",
       "version_major": 2,
       "version_minor": 0
      },
      "text/plain": [
       "Text(value='', description='Home DB Name:', placeholder='', style=DescriptionStyle(description_width='initial'…"
      ]
     },
     "metadata": {},
     "output_type": "display_data"
    },
    {
     "data": {
      "application/vnd.jupyter.widget-view+json": {
       "model_id": "e0f4d567ac634066a9a387b4ef69b860",
       "version_major": 2,
       "version_minor": 0
      },
      "text/plain": [
       "Password(description='DB Password:', placeholder='', style=DescriptionStyle(description_width='initial'))"
      ]
     },
     "metadata": {},
     "output_type": "display_data"
    }
   ],
   "source": [
    "# As mentioned earlier, the free Aura DBs had some strict memory limitations (250 MB). \n",
    "# So we're using a self-hosted Neo4j DB for the larger Q&A dataset.\n",
    "dbHomeNameWidget = ipywidgets.Text(value=\"\", placeholder=\"\", description=\"Home DB Name:\", disabled=False, \n",
    "                               style=dict(description_width='initial'))\n",
    "display(dbHomeNameWidget)\n",
    "dbHomePasswordWidget = ipywidgets.Password(value=\"\", placeholder=\"\", description=\"DB Password:\", disabled=False,\n",
    "                                    style=dict(description_width='initial'))\n",
    "display(dbHomePasswordWidget)\n",
    "\n"
   ]
  },
  {
   "cell_type": "code",
   "execution_count": 31,
   "id": "448114e3",
   "metadata": {},
   "outputs": [
    {
     "name": "stdout",
     "output_type": "stream",
     "text": [
      "Connecting to:  paris.local\n"
     ]
    }
   ],
   "source": [
    "if dbHomeNameWidget != None and dbHomePasswordWidget != None:\n",
    "    print(\"Connecting to: \", dbHomeNameWidget.value)\n",
    "    connHome = GraphDatabase.driver(\"neo4j://\" + dbHomeNameWidget.value + \":7687\", \n",
    "                                auth=(\"neo4j\", dbHomePasswordWidget.value))\n",
    "else:\n",
    "    print(\"Please run cell above and enter the database name and password above\")"
   ]
  },
  {
   "cell_type": "code",
   "execution_count": 32,
   "id": "bc57505f",
   "metadata": {},
   "outputs": [],
   "source": [
    "# Initialize the database by flush all the records\n",
    "fnUpdateQuery(connHome, fnResetDB)\n",
    "\n",
    "# JSON file was created from the function above which fetches data from Stackoverflow APIs and uploaded to a public\n",
    "# S3 bucket.\n",
    "url = \"http://s3.msds.rutgers.org.s3-website-us-east-1.amazonaws.com/special_topics/stackoverflow-neo4j_03152022_121720.json\"\n",
    "fnUpdateQuery(connHome, fnInsertNeo4jQuestions, {\"url\": url})\n"
   ]
  },
  {
   "cell_type": "code",
   "execution_count": 33,
   "id": "40e8305e",
   "metadata": {},
   "outputs": [
    {
     "name": "stdout",
     "output_type": "stream",
     "text": [
      "Number of users:  2108\n",
      "Number of questions:  2494\n",
      "Number of answers:  2260\n",
      "Number of comments:  2362\n",
      "\n",
      "Number of nodes:          label  count(*)\n",
      "0      [User]      2108\n",
      "1    [Answer]      2260\n",
      "2   [Comment]      2362\n",
      "3  [Question]      2494\n",
      "4       [Tag]       671\n"
     ]
    }
   ],
   "source": [
    "# Start with some basic statics. To simplify the code code the query inline using Lambda function.\n",
    "# Get the # of users, questions, answers and tags (categories)\n",
    "result = fnReadQuery(connHome, lambda transaction, args : \n",
    "                     transaction.run(\"MATCH(n:User) RETURN count(n)\").single()[0])\n",
    "print(\"Number of users: \", result)\n",
    "\n",
    "result = fnReadQuery(connHome, lambda transaction, args : \n",
    "                     transaction.run(\"MATCH(n:Question) RETURN count(n)\").single()[0])\n",
    "print(\"Number of questions: \", result)\n",
    "\n",
    "result = fnReadQuery(connHome, lambda transaction, args : \n",
    "                     transaction.run(\"MATCH(n:Answer) RETURN count(n)\").single()[0])\n",
    "print(\"Number of answers: \", result)\n",
    "\n",
    "result = fnReadQuery(connHome, lambda transaction, args : \n",
    "                     transaction.run(\"MATCH(n:Comment) RETURN count(n)\").single()[0])\n",
    "print(\"Number of comments: \", result)\n",
    "print()\n",
    "\n",
    "# And a simpler way to get all the node-tags\n",
    "dfNodes = fnReadQuery(connHome, lambda transaction, args : \n",
    "                     fnGetFrameFromResultSet(\n",
    "                         transaction.run(\"MATCH(n) RETURN labels(n) as label, count(*)\")))\n",
    "                     \n",
    "print(\"Number of nodes: \", dfNodes)"
   ]
  },
  {
   "cell_type": "code",
   "execution_count": 34,
   "id": "ab02c0c9",
   "metadata": {},
   "outputs": [
    {
     "name": "stdout",
     "output_type": "stream",
     "text": [
      "                t.name  tagCount\n",
      "0                neo4j      2494\n",
      "1               cypher      1122\n",
      "2           neo4j-apoc       206\n",
      "3      graph-databases       164\n",
      "4               python       146\n",
      "5                 java       139\n",
      "6    spring-data-neo4j       109\n",
      "7                graph       107\n",
      "8              graphql        79\n",
      "9             database        76\n",
      "10         spring-boot        75\n",
      "11              py2neo        69\n",
      "12             node.js        63\n",
      "13          javascript        55\n",
      "14              docker        52\n",
      "15              spring        49\n",
      "16                 csv        40\n",
      "17                json        33\n",
      "18  graph-data-science        32\n",
      "19                  c#        32\n"
     ]
    }
   ],
   "source": [
    "# Now let's see what are the 20 most popular tags for Neo4j\n",
    "dfTagCounts = fnReadQuery(connHome, lambda transaction, args : \n",
    "                     fnGetFrameFromResultSet(\n",
    "                         transaction.run(\"\"\"MATCH(n:Question)-[r:TAGGED]-(t:Tag) \n",
    "                                             RETURN t.name, count(*) as tagCount\n",
    "                                             ORDER BY tagCount DESC LIMIT 20\"\"\")\n",
    "                     ))\n",
    "                     \n",
    "print(dfTagCounts)"
   ]
  },
  {
   "cell_type": "code",
   "execution_count": 35,
   "id": "ffdfd528",
   "metadata": {},
   "outputs": [
    {
     "name": "stdout",
     "output_type": "stream",
     "text": [
      "  u.display_name  qCount\n",
      "0           LJRB      20\n",
      "1    Thingamajig      15\n",
      "2           A. L      13\n",
      "3   Aerodynamika      12\n",
      "4          Ooker      12\n",
      "5         marlon      11\n",
      "6   user11333043      11\n",
      "7  Armen Sanoyan      11\n",
      "8           Sama      11\n",
      "9       David542      10\n"
     ]
    }
   ],
   "source": [
    "# And who are the top users who asked the most questions\n",
    "dfQCounts = fnReadQuery(connHome, lambda transaction, args : \n",
    "                     fnGetFrameFromResultSet(\n",
    "                         transaction.run(\"\"\"MATCH(u:User)-[r:ASKED]-(q:Question) \n",
    "                                             RETURN u.display_name, count(*) as qCount\n",
    "                                             ORDER BY qCount DESC LIMIT 10\"\"\")\n",
    "                     ))\n",
    "print(dfQCounts)"
   ]
  },
  {
   "cell_type": "code",
   "execution_count": 36,
   "id": "978c482e",
   "metadata": {},
   "outputs": [
    {
     "data": {
      "text/html": [
       "<div>\n",
       "<style scoped>\n",
       "    .dataframe tbody tr th:only-of-type {\n",
       "        vertical-align: middle;\n",
       "    }\n",
       "\n",
       "    .dataframe tbody tr th {\n",
       "        vertical-align: top;\n",
       "    }\n",
       "\n",
       "    .dataframe thead th {\n",
       "        text-align: right;\n",
       "    }\n",
       "</style>\n",
       "<table border=\"1\" class=\"dataframe\">\n",
       "  <thead>\n",
       "    <tr style=\"text-align: right;\">\n",
       "      <th></th>\n",
       "      <th>name</th>\n",
       "      <th>ansCount</th>\n",
       "      <th>avgScore</th>\n",
       "    </tr>\n",
       "  </thead>\n",
       "  <tbody>\n",
       "    <tr>\n",
       "      <th>0</th>\n",
       "      <td>cybersam</td>\n",
       "      <td>257</td>\n",
       "      <td>0.564202</td>\n",
       "    </tr>\n",
       "    <tr>\n",
       "      <th>1</th>\n",
       "      <td>Graphileon</td>\n",
       "      <td>206</td>\n",
       "      <td>0.616505</td>\n",
       "    </tr>\n",
       "    <tr>\n",
       "      <th>2</th>\n",
       "      <td>Tomaž Bratanič</td>\n",
       "      <td>202</td>\n",
       "      <td>0.599010</td>\n",
       "    </tr>\n",
       "    <tr>\n",
       "      <th>3</th>\n",
       "      <td>jose_bacoy</td>\n",
       "      <td>165</td>\n",
       "      <td>0.496970</td>\n",
       "    </tr>\n",
       "    <tr>\n",
       "      <th>4</th>\n",
       "      <td>InverseFalcon</td>\n",
       "      <td>95</td>\n",
       "      <td>0.536842</td>\n",
       "    </tr>\n",
       "    <tr>\n",
       "      <th>5</th>\n",
       "      <td>Christophe Willemsen</td>\n",
       "      <td>66</td>\n",
       "      <td>0.818182</td>\n",
       "    </tr>\n",
       "    <tr>\n",
       "      <th>6</th>\n",
       "      <td>fbiville</td>\n",
       "      <td>49</td>\n",
       "      <td>0.632653</td>\n",
       "    </tr>\n",
       "    <tr>\n",
       "      <th>7</th>\n",
       "      <td>David A Stumpf</td>\n",
       "      <td>36</td>\n",
       "      <td>0.305556</td>\n",
       "    </tr>\n",
       "    <tr>\n",
       "      <th>8</th>\n",
       "      <td>meistermeier</td>\n",
       "      <td>32</td>\n",
       "      <td>0.687500</td>\n",
       "    </tr>\n",
       "    <tr>\n",
       "      <th>9</th>\n",
       "      <td>Luanne</td>\n",
       "      <td>29</td>\n",
       "      <td>0.793103</td>\n",
       "    </tr>\n",
       "  </tbody>\n",
       "</table>\n",
       "</div>"
      ],
      "text/plain": [
       "                   name  ansCount  avgScore\n",
       "0              cybersam       257  0.564202\n",
       "1            Graphileon       206  0.616505\n",
       "2        Tomaž Bratanič       202  0.599010\n",
       "3            jose_bacoy       165  0.496970\n",
       "4         InverseFalcon        95  0.536842\n",
       "5  Christophe Willemsen        66  0.818182\n",
       "6              fbiville        49  0.632653\n",
       "7        David A Stumpf        36  0.305556\n",
       "8          meistermeier        32  0.687500\n",
       "9                Luanne        29  0.793103"
      ]
     },
     "metadata": {},
     "output_type": "display_data"
    },
    {
     "data": {
      "text/plain": [
       "<AxesSubplot:xlabel='ansCount', ylabel='avgScore'>"
      ]
     },
     "execution_count": 36,
     "metadata": {},
     "output_type": "execute_result"
    },
    {
     "data": {
      "image/png": "[encoded data removed]",
      "text/plain": [
       "<Figure size 432x288 with 1 Axes>"
      ]
     },
     "metadata": {
      "needs_background": "light"
     },
     "output_type": "display_data"
    }
   ],
   "source": [
    "# And who answered the most questions and how they scored (based on average of votes)\n",
    "dfAnswer = fnReadQuery(connHome, lambda transaction, args : \n",
    "                     fnGetFrameFromResultSet(\n",
    "                         transaction.run(\"\"\"MATCH(u:User)-[r:PROVIDED]-(a:Answer)-[:ANSWERED]->(q:Question) \n",
    "                                             RETURN u.display_name as name, count(a) as ansCount, avg(a.score) as avgScore\n",
    "                                             ORDER BY ansCount DESC, avgScore\"\"\")\n",
    "                     ))\n",
    "display(dfAnswer.head(10))\n",
    "\n",
    "# Let's see the distribution of\n",
    "seaborn.scatterplot(data=dfAnswer, x=\"ansCount\", y=\"avgScore\")\n"
   ]
  },
  {
   "cell_type": "code",
   "execution_count": 37,
   "id": "95549ebb",
   "metadata": {},
   "outputs": [
    {
     "data": {
      "text/html": [
       "<div>\n",
       "<style scoped>\n",
       "    .dataframe tbody tr th:only-of-type {\n",
       "        vertical-align: middle;\n",
       "    }\n",
       "\n",
       "    .dataframe tbody tr th {\n",
       "        vertical-align: top;\n",
       "    }\n",
       "\n",
       "    .dataframe thead th {\n",
       "        text-align: right;\n",
       "    }\n",
       "</style>\n",
       "<table border=\"1\" class=\"dataframe\">\n",
       "  <thead>\n",
       "    <tr style=\"text-align: right;\">\n",
       "      <th></th>\n",
       "      <th>name</th>\n",
       "      <th>ansCount</th>\n",
       "      <th>avgScore</th>\n",
       "    </tr>\n",
       "  </thead>\n",
       "  <tbody>\n",
       "    <tr>\n",
       "      <th>0</th>\n",
       "      <td>Michael Hunger</td>\n",
       "      <td>23</td>\n",
       "      <td>0.956522</td>\n",
       "    </tr>\n",
       "    <tr>\n",
       "      <th>1</th>\n",
       "      <td>Nigel Small</td>\n",
       "      <td>21</td>\n",
       "      <td>0.904762</td>\n",
       "    </tr>\n",
       "    <tr>\n",
       "      <th>2</th>\n",
       "      <td>stellasia</td>\n",
       "      <td>12</td>\n",
       "      <td>1.000000</td>\n",
       "    </tr>\n",
       "    <tr>\n",
       "      <th>3</th>\n",
       "      <td>H&amp;#229;kan L&amp;#246;fqvist</td>\n",
       "      <td>11</td>\n",
       "      <td>0.909091</td>\n",
       "    </tr>\n",
       "    <tr>\n",
       "      <th>4</th>\n",
       "      <td>Mafor</td>\n",
       "      <td>9</td>\n",
       "      <td>1.222222</td>\n",
       "    </tr>\n",
       "  </tbody>\n",
       "</table>\n",
       "</div>"
      ],
      "text/plain": [
       "                       name  ansCount  avgScore\n",
       "0            Michael Hunger        23  0.956522\n",
       "1               Nigel Small        21  0.904762\n",
       "2                 stellasia        12  1.000000\n",
       "3  H&#229;kan L&#246;fqvist        11  0.909091\n",
       "4                     Mafor         9  1.222222"
      ]
     },
     "execution_count": 37,
     "metadata": {},
     "output_type": "execute_result"
    }
   ],
   "source": [
    "# Who would be best to ask about Neo4j or where confidence is high that the answer is correct?\n",
    "# Who scored well? Defined as avg >= 1 and answered at least 5 questions\n",
    "dfAnsweredWell = fnReadQuery(connHome, lambda transaction, args : \n",
    "                     fnGetFrameFromResultSet(\n",
    "                         transaction.run(\"\"\"MATCH(u:User)-[r:PROVIDED]-(a:Answer)-[:ANSWERED]->(q:Question) \n",
    "                                             WITH u.display_name as name, count(a) as ansCount, avg(a.score) as avgScore\n",
    "                                             WHERE ansCount > 5 and avgScore > .9\n",
    "                                             RETURN name, ansCount, avgScore\n",
    "                                             ORDER BY ansCount DESC, avgScore ASC\"\"\")\n",
    "                     ))\n",
    "dfAnsweredWell.head(10)"
   ]
  },
  {
   "cell_type": "code",
   "execution_count": 38,
   "id": "ad48e469",
   "metadata": {},
   "outputs": [
    {
     "data": {
      "text/html": [
       "<div>\n",
       "<style scoped>\n",
       "    .dataframe tbody tr th:only-of-type {\n",
       "        vertical-align: middle;\n",
       "    }\n",
       "\n",
       "    .dataframe tbody tr th {\n",
       "        vertical-align: top;\n",
       "    }\n",
       "\n",
       "    .dataframe thead th {\n",
       "        text-align: right;\n",
       "    }\n",
       "</style>\n",
       "<table border=\"1\" class=\"dataframe\">\n",
       "  <thead>\n",
       "    <tr style=\"text-align: right;\">\n",
       "      <th></th>\n",
       "      <th>name</th>\n",
       "      <th>ansCount</th>\n",
       "      <th>avgScore</th>\n",
       "    </tr>\n",
       "  </thead>\n",
       "  <tbody>\n",
       "    <tr>\n",
       "      <th>0</th>\n",
       "      <td>plastic</td>\n",
       "      <td>25</td>\n",
       "      <td>0.200000</td>\n",
       "    </tr>\n",
       "    <tr>\n",
       "      <th>1</th>\n",
       "      <td>norihide.shimatani</td>\n",
       "      <td>13</td>\n",
       "      <td>0.153846</td>\n",
       "    </tr>\n",
       "    <tr>\n",
       "      <th>2</th>\n",
       "      <td>hoyski</td>\n",
       "      <td>13</td>\n",
       "      <td>0.230769</td>\n",
       "    </tr>\n",
       "    <tr>\n",
       "      <th>3</th>\n",
       "      <td>Adrian Keister</td>\n",
       "      <td>10</td>\n",
       "      <td>-0.100000</td>\n",
       "    </tr>\n",
       "    <tr>\n",
       "      <th>4</th>\n",
       "      <td>manonthemat</td>\n",
       "      <td>9</td>\n",
       "      <td>0.222222</td>\n",
       "    </tr>\n",
       "    <tr>\n",
       "      <th>5</th>\n",
       "      <td>A. L</td>\n",
       "      <td>9</td>\n",
       "      <td>0.222222</td>\n",
       "    </tr>\n",
       "    <tr>\n",
       "      <th>6</th>\n",
       "      <td>Lukasmp3</td>\n",
       "      <td>9</td>\n",
       "      <td>0.222222</td>\n",
       "    </tr>\n",
       "    <tr>\n",
       "      <th>7</th>\n",
       "      <td>Michael Porter</td>\n",
       "      <td>6</td>\n",
       "      <td>0.000000</td>\n",
       "    </tr>\n",
       "  </tbody>\n",
       "</table>\n",
       "</div>"
      ],
      "text/plain": [
       "                 name  ansCount  avgScore\n",
       "0             plastic        25  0.200000\n",
       "1  norihide.shimatani        13  0.153846\n",
       "2              hoyski        13  0.230769\n",
       "3      Adrian Keister        10 -0.100000\n",
       "4         manonthemat         9  0.222222\n",
       "5                A. L         9  0.222222\n",
       "6            Lukasmp3         9  0.222222\n",
       "7      Michael Porter         6  0.000000"
      ]
     },
     "execution_count": 38,
     "metadata": {},
     "output_type": "execute_result"
    }
   ],
   "source": [
    "# Who scored poorly and maybe should be ignored? Defined as avg < .5 and answered at least 5 questions\n",
    "dfAnsweredPoorly = fnReadQuery(connHome, lambda transaction, args : \n",
    "                     fnGetFrameFromResultSet(\n",
    "                         transaction.run(\"\"\"MATCH(u:User)-[r:PROVIDED]-(a:Answer)-[:ANSWERED]->(q:Question) \n",
    "                                             WITH u.display_name as name, count(a) as ansCount, avg(a.score) as avgScore\n",
    "                                             WHERE ansCount > 5 and avgScore < .25\n",
    "                                             RETURN name, ansCount, avgScore\n",
    "                                             ORDER BY ansCount DESC, avgScore ASC\"\"\")\n",
    "                     ))\n",
    "dfAnsweredPoorly.head(10)"
   ]
  },
  {
   "cell_type": "code",
   "execution_count": 39,
   "id": "68d889f6",
   "metadata": {},
   "outputs": [
    {
     "data": {
      "text/html": [
       "<div>\n",
       "<style scoped>\n",
       "    .dataframe tbody tr th:only-of-type {\n",
       "        vertical-align: middle;\n",
       "    }\n",
       "\n",
       "    .dataframe tbody tr th {\n",
       "        vertical-align: top;\n",
       "    }\n",
       "\n",
       "    .dataframe thead th {\n",
       "        text-align: right;\n",
       "    }\n",
       "</style>\n",
       "<table border=\"1\" class=\"dataframe\">\n",
       "  <thead>\n",
       "    <tr style=\"text-align: right;\">\n",
       "      <th></th>\n",
       "      <th>responder</th>\n",
       "      <th>questioner</th>\n",
       "      <th>pairCount</th>\n",
       "    </tr>\n",
       "  </thead>\n",
       "  <tbody>\n",
       "    <tr>\n",
       "      <th>0</th>\n",
       "      <td>cybersam</td>\n",
       "      <td>LJRB</td>\n",
       "      <td>7</td>\n",
       "    </tr>\n",
       "    <tr>\n",
       "      <th>1</th>\n",
       "      <td>Graphileon</td>\n",
       "      <td>A. L</td>\n",
       "      <td>5</td>\n",
       "    </tr>\n",
       "    <tr>\n",
       "      <th>2</th>\n",
       "      <td>Tomaž Bratanič</td>\n",
       "      <td>LJRB</td>\n",
       "      <td>5</td>\n",
       "    </tr>\n",
       "    <tr>\n",
       "      <th>3</th>\n",
       "      <td>cybersam</td>\n",
       "      <td>Sean</td>\n",
       "      <td>4</td>\n",
       "    </tr>\n",
       "    <tr>\n",
       "      <th>4</th>\n",
       "      <td>Tomaž Bratanič</td>\n",
       "      <td>SteveS</td>\n",
       "      <td>4</td>\n",
       "    </tr>\n",
       "    <tr>\n",
       "      <th>5</th>\n",
       "      <td>Graphileon</td>\n",
       "      <td>Ooker</td>\n",
       "      <td>4</td>\n",
       "    </tr>\n",
       "    <tr>\n",
       "      <th>6</th>\n",
       "      <td>cybersam</td>\n",
       "      <td>ck22</td>\n",
       "      <td>4</td>\n",
       "    </tr>\n",
       "    <tr>\n",
       "      <th>7</th>\n",
       "      <td>Charlotte Skardon</td>\n",
       "      <td>Prateek</td>\n",
       "      <td>4</td>\n",
       "    </tr>\n",
       "    <tr>\n",
       "      <th>8</th>\n",
       "      <td>Tomaž Bratanič</td>\n",
       "      <td>user2167741</td>\n",
       "      <td>3</td>\n",
       "    </tr>\n",
       "    <tr>\n",
       "      <th>9</th>\n",
       "      <td>Graphileon</td>\n",
       "      <td>crazyfrog</td>\n",
       "      <td>3</td>\n",
       "    </tr>\n",
       "  </tbody>\n",
       "</table>\n",
       "</div>"
      ],
      "text/plain": [
       "           responder   questioner  pairCount\n",
       "0           cybersam         LJRB          7\n",
       "1         Graphileon         A. L          5\n",
       "2     Tomaž Bratanič         LJRB          5\n",
       "3           cybersam         Sean          4\n",
       "4     Tomaž Bratanič       SteveS          4\n",
       "5         Graphileon        Ooker          4\n",
       "6           cybersam         ck22          4\n",
       "7  Charlotte Skardon      Prateek          4\n",
       "8     Tomaž Bratanič  user2167741          3\n",
       "9         Graphileon    crazyfrog          3"
      ]
     },
     "execution_count": 39,
     "metadata": {},
     "output_type": "execute_result"
    }
   ],
   "source": [
    "# Is there a pattern where certain users questions are answered by the same person?  \n",
    "dfBuddies = fnReadQuery(connHome, lambda transaction, args : \n",
    "                     fnGetFrameFromResultSet(\n",
    "                         transaction.run(\"\"\"MATCH (u:User)-[PROVIDED]->()-[a:ANSWERED]-()-[:ASKED]-(u2:User)\n",
    "                                            WHERE NOT u.display_name = u2.display_name\n",
    "                                            RETURN u.display_name as responder, u2.display_name as questioner,\n",
    "                                                count(*) as pairCount\n",
    "                                            ORDER BY pairCount desc LIMIT 10;\"\"\")\n",
    "                     ))\n",
    "dfBuddies.head(10)"
   ]
  },
  {
   "cell_type": "code",
   "execution_count": 40,
   "id": "4318eec8",
   "metadata": {},
   "outputs": [
    {
     "data": {
      "text/html": [
       "<div>\n",
       "<style scoped>\n",
       "    .dataframe tbody tr th:only-of-type {\n",
       "        vertical-align: middle;\n",
       "    }\n",
       "\n",
       "    .dataframe tbody tr th {\n",
       "        vertical-align: top;\n",
       "    }\n",
       "\n",
       "    .dataframe thead th {\n",
       "        text-align: right;\n",
       "    }\n",
       "</style>\n",
       "<table border=\"1\" class=\"dataframe\">\n",
       "  <thead>\n",
       "    <tr style=\"text-align: right;\">\n",
       "      <th></th>\n",
       "      <th>tag</th>\n",
       "      <th>unansweredCount</th>\n",
       "    </tr>\n",
       "  </thead>\n",
       "  <tbody>\n",
       "    <tr>\n",
       "      <th>0</th>\n",
       "      <td>cypher</td>\n",
       "      <td>174</td>\n",
       "    </tr>\n",
       "    <tr>\n",
       "      <th>1</th>\n",
       "      <td>java</td>\n",
       "      <td>55</td>\n",
       "    </tr>\n",
       "    <tr>\n",
       "      <th>2</th>\n",
       "      <td>neo4j-apoc</td>\n",
       "      <td>52</td>\n",
       "    </tr>\n",
       "    <tr>\n",
       "      <th>3</th>\n",
       "      <td>python</td>\n",
       "      <td>36</td>\n",
       "    </tr>\n",
       "    <tr>\n",
       "      <th>4</th>\n",
       "      <td>spring-data-neo4j</td>\n",
       "      <td>35</td>\n",
       "    </tr>\n",
       "    <tr>\n",
       "      <th>5</th>\n",
       "      <td>spring-boot</td>\n",
       "      <td>34</td>\n",
       "    </tr>\n",
       "    <tr>\n",
       "      <th>6</th>\n",
       "      <td>graphql</td>\n",
       "      <td>27</td>\n",
       "    </tr>\n",
       "    <tr>\n",
       "      <th>7</th>\n",
       "      <td>graph-databases</td>\n",
       "      <td>26</td>\n",
       "    </tr>\n",
       "    <tr>\n",
       "      <th>8</th>\n",
       "      <td>graph</td>\n",
       "      <td>20</td>\n",
       "    </tr>\n",
       "    <tr>\n",
       "      <th>9</th>\n",
       "      <td>spring</td>\n",
       "      <td>19</td>\n",
       "    </tr>\n",
       "  </tbody>\n",
       "</table>\n",
       "</div>"
      ],
      "text/plain": [
       "                 tag  unansweredCount\n",
       "0             cypher              174\n",
       "1               java               55\n",
       "2         neo4j-apoc               52\n",
       "3             python               36\n",
       "4  spring-data-neo4j               35\n",
       "5        spring-boot               34\n",
       "6            graphql               27\n",
       "7    graph-databases               26\n",
       "8              graph               20\n",
       "9             spring               19"
      ]
     },
     "execution_count": 40,
     "metadata": {},
     "output_type": "execute_result"
    }
   ],
   "source": [
    "# Questions that were answered quickly and by whom\n",
    "dfUnanswered = fnReadQuery(connHome, lambda transaction, args : \n",
    "                     fnGetFrameFromResultSet(\n",
    "                         transaction.run(\"\"\"MATCH (q:Question)-[:TAGGED]->(t:Tag)\n",
    "                                             WHERE NOT t.name in ['\"\"\" + keyword + \"\"\"']\n",
    "                                                 AND NOT (q)<-[:ANSWERED]-()\n",
    "                                             RETURN t.name as tag, count(q) as unansweredCount\n",
    "                                             ORDER BY unansweredCount DESC LIMIT 10\"\"\")\n",
    "                     ))\n",
    "dfUnanswered.head(10)"
   ]
  },
  {
   "cell_type": "code",
   "execution_count": null,
   "id": "3f6f6904",
   "metadata": {},
   "outputs": [],
   "source": [
    "# Cleanup connection\n",
    "connHome.close()"
   ]
  }
 ],
 "metadata": {
  "kernelspec": {
   "display_name": "Python 3 (ipykernel)",
   "language": "python",
   "name": "python3"
  },
  "language_info": {
   "codemirror_mode": {
    "name": "ipython",
    "version": 3
   },
   "file_extension": ".py",
   "mimetype": "text/x-python",
   "name": "python",
   "nbconvert_exporter": "python",
   "pygments_lexer": "ipython3",
   "version": "3.9.7"
  }
 },
 "nbformat": 4,
 "nbformat_minor": 5
}
